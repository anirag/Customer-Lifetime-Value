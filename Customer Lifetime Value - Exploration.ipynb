{
 "cells": [
  {
   "cell_type": "markdown",
   "metadata": {},
   "source": [
    "# Import Packages"
   ]
  },
  {
   "cell_type": "code",
   "execution_count": 3,
   "metadata": {},
   "outputs": [],
   "source": [
    "import pandas as pd\n",
    "import numpy as np\n",
    "\n",
    "import sys,os\n",
    "import time\n",
    "from datetime import datetime\n",
    "import itertools\n",
    "\n",
    "import matplotlib\n",
    "import matplotlib.pyplot as plt\n",
    "import seaborn as sns\n",
    "%matplotlib inline\n",
    "\n",
    "import statsmodels\n",
    "from statsmodels.tsa.stattools import adfuller\n",
    "from scipy.stats import poisson \n",
    "from scipy.stats import chisquare\n",
    "\n",
    "from lifetimes import BetaGeoFitter,ModifiedBetaGeoFitter,GammaGammaFitter\n",
    "from lifetimes.utils import summary_data_from_transaction_data, calibration_and_holdout_data\n",
    "from lifetimes.generate_data import modified_beta_geometric_nbd_model\n",
    "from lifetimes.plotting import plot_period_transactions,plot_calibration_purchases_vs_holdout_purchases\n",
    "\n",
    "from sklearn.metrics import roc_curve,auc,classification_report,f1_score,mean_squared_error, mean_absolute_error\n",
    "\n",
    "import warnings\n",
    "warnings.filterwarnings('ignore')\n",
    "pd.options.display.max_rows=500"
   ]
  },
  {
   "cell_type": "code",
   "execution_count": 4,
   "metadata": {},
   "outputs": [
    {
     "data": {
      "text/plain": [
       "(49945, 3)"
      ]
     },
     "execution_count": 4,
     "metadata": {},
     "output_type": "execute_result"
    }
   ],
   "source": [
    "df = pd.read_csv('data.csv')\n",
    "df.shape"
   ]
  },
  {
   "cell_type": "markdown",
   "metadata": {},
   "source": [
    "> The file contains approximately 50,000 transactions from an ecommerce store that sells widgets. Each row represents a purchase. The first column is the CustomerID and it’s possible to have multiple rows with the same CustomerID . The second column is a UTC timestamp of the transaction and the third column is the monetary value of the transaction."
   ]
  },
  {
   "cell_type": "markdown",
   "metadata": {},
   "source": [
    "# Basic Exploration"
   ]
  },
  {
   "cell_type": "code",
   "execution_count": 5,
   "metadata": {},
   "outputs": [],
   "source": [
    "df['Timestamp'] = pd.to_datetime(df['Timestamp'])\n",
    "df['Timestamp'] = df['Timestamp'].apply(lambda x:datetime.replace(x,tzinfo=None))\n",
    "df = df.sort_values(['CustomerID','Timestamp'])"
   ]
  },
  {
   "cell_type": "code",
   "execution_count": 6,
   "metadata": {},
   "outputs": [
    {
     "data": {
      "text/html": [
       "<div>\n",
       "<style scoped>\n",
       "    .dataframe tbody tr th:only-of-type {\n",
       "        vertical-align: middle;\n",
       "    }\n",
       "\n",
       "    .dataframe tbody tr th {\n",
       "        vertical-align: top;\n",
       "    }\n",
       "\n",
       "    .dataframe thead th {\n",
       "        text-align: right;\n",
       "    }\n",
       "</style>\n",
       "<table border=\"1\" class=\"dataframe\">\n",
       "  <thead>\n",
       "    <tr style=\"text-align: right;\">\n",
       "      <th></th>\n",
       "      <th>CustomerID</th>\n",
       "      <th>Timestamp</th>\n",
       "      <th>PurchaseValue</th>\n",
       "    </tr>\n",
       "  </thead>\n",
       "  <tbody>\n",
       "    <tr>\n",
       "      <th>10498</th>\n",
       "      <td>0001117ff1305c1fe840697166e61564</td>\n",
       "      <td>2016-12-27 21:05:00</td>\n",
       "      <td>88.25</td>\n",
       "    </tr>\n",
       "    <tr>\n",
       "      <th>9715</th>\n",
       "      <td>0001117ff1305c1fe840697166e61564</td>\n",
       "      <td>2017-01-07 15:14:00</td>\n",
       "      <td>87.28</td>\n",
       "    </tr>\n",
       "    <tr>\n",
       "      <th>7651</th>\n",
       "      <td>00028502859fd7e111d88c20456b59d5</td>\n",
       "      <td>2016-12-29 17:30:00</td>\n",
       "      <td>78.10</td>\n",
       "    </tr>\n",
       "    <tr>\n",
       "      <th>13677</th>\n",
       "      <td>000306d200fd6e9b03de48d15348f5c2</td>\n",
       "      <td>2017-11-03 11:32:00</td>\n",
       "      <td>98.44</td>\n",
       "    </tr>\n",
       "    <tr>\n",
       "      <th>5047</th>\n",
       "      <td>0003f3458a6e7b495a975c2d9ddda559</td>\n",
       "      <td>2016-12-28 22:14:00</td>\n",
       "      <td>68.28</td>\n",
       "    </tr>\n",
       "  </tbody>\n",
       "</table>\n",
       "</div>"
      ],
      "text/plain": [
       "                             CustomerID           Timestamp  PurchaseValue\n",
       "10498  0001117ff1305c1fe840697166e61564 2016-12-27 21:05:00          88.25\n",
       "9715   0001117ff1305c1fe840697166e61564 2017-01-07 15:14:00          87.28\n",
       "7651   00028502859fd7e111d88c20456b59d5 2016-12-29 17:30:00          78.10\n",
       "13677  000306d200fd6e9b03de48d15348f5c2 2017-11-03 11:32:00          98.44\n",
       "5047   0003f3458a6e7b495a975c2d9ddda559 2016-12-28 22:14:00          68.28"
      ]
     },
     "execution_count": 6,
     "metadata": {},
     "output_type": "execute_result"
    }
   ],
   "source": [
    "df.head()"
   ]
  },
  {
   "cell_type": "code",
   "execution_count": 7,
   "metadata": {},
   "outputs": [
    {
     "data": {
      "text/plain": [
       "CustomerID       0\n",
       "Timestamp        0\n",
       "PurchaseValue    0\n",
       "dtype: int64"
      ]
     },
     "execution_count": 7,
     "metadata": {},
     "output_type": "execute_result"
    }
   ],
   "source": [
    "# checking for nulls\n",
    "df.isnull().sum()"
   ]
  },
  {
   "cell_type": "code",
   "execution_count": 8,
   "metadata": {},
   "outputs": [
    {
     "data": {
      "text/plain": [
       "count                   49945\n",
       "unique                  44795\n",
       "top       2017-03-30 14:27:00\n",
       "freq                       16\n",
       "first     2016-11-30 04:47:00\n",
       "last      2017-12-06 17:53:00\n",
       "Name: Timestamp, dtype: object"
      ]
     },
     "execution_count": 8,
     "metadata": {},
     "output_type": "execute_result"
    }
   ],
   "source": [
    "df.Timestamp.describe()"
   ]
  },
  {
   "cell_type": "markdown",
   "metadata": {},
   "source": [
    "# Creating RFM dataframe "
   ]
  },
  {
   "cell_type": "markdown",
   "metadata": {},
   "source": [
    "A RFM matrix contain the following attributes for each customer:\n",
    "\n",
    "* **T** is the length of the period of observation for the customer based on the value used for freq (the default is frequency is day). This can also be thought of the length of time between a customer’s first purchase and the end of the period, measured in increments defined by freq.\n",
    "* **recency** is the point (relative to their own period of observation) at which the customer made their most recent repeat purchase. This can also be thought of the length of time between a customer’s first and last purchase for the period, measured in increments defined by freq.\n",
    "* **frequency** is the number of repeat purchases the customer made during the observation period.\n",
    "* **monetary_value** is the average monetary amount of each repeat purchase made by a customer."
   ]
  },
  {
   "cell_type": "code",
   "execution_count": 9,
   "metadata": {},
   "outputs": [
    {
     "data": {
      "text/html": [
       "<div>\n",
       "<style scoped>\n",
       "    .dataframe tbody tr th:only-of-type {\n",
       "        vertical-align: middle;\n",
       "    }\n",
       "\n",
       "    .dataframe tbody tr th {\n",
       "        vertical-align: top;\n",
       "    }\n",
       "\n",
       "    .dataframe thead th {\n",
       "        text-align: right;\n",
       "    }\n",
       "</style>\n",
       "<table border=\"1\" class=\"dataframe\">\n",
       "  <thead>\n",
       "    <tr style=\"text-align: right;\">\n",
       "      <th></th>\n",
       "      <th>frequency</th>\n",
       "      <th>recency</th>\n",
       "      <th>T</th>\n",
       "      <th>monetary_value</th>\n",
       "    </tr>\n",
       "    <tr>\n",
       "      <th>CustomerID</th>\n",
       "      <th></th>\n",
       "      <th></th>\n",
       "      <th></th>\n",
       "      <th></th>\n",
       "    </tr>\n",
       "  </thead>\n",
       "  <tbody>\n",
       "    <tr>\n",
       "      <th>0001117ff1305c1fe840697166e61564</th>\n",
       "      <td>1.0</td>\n",
       "      <td>11.0</td>\n",
       "      <td>344.0</td>\n",
       "      <td>87.280</td>\n",
       "    </tr>\n",
       "    <tr>\n",
       "      <th>00028502859fd7e111d88c20456b59d5</th>\n",
       "      <td>0.0</td>\n",
       "      <td>0.0</td>\n",
       "      <td>342.0</td>\n",
       "      <td>0.000</td>\n",
       "    </tr>\n",
       "    <tr>\n",
       "      <th>000306d200fd6e9b03de48d15348f5c2</th>\n",
       "      <td>0.0</td>\n",
       "      <td>0.0</td>\n",
       "      <td>33.0</td>\n",
       "      <td>0.000</td>\n",
       "    </tr>\n",
       "    <tr>\n",
       "      <th>0003f3458a6e7b495a975c2d9ddda559</th>\n",
       "      <td>2.0</td>\n",
       "      <td>285.0</td>\n",
       "      <td>343.0</td>\n",
       "      <td>88.065</td>\n",
       "    </tr>\n",
       "    <tr>\n",
       "      <th>000784b838b807ad589d4bc69c0c562f</th>\n",
       "      <td>0.0</td>\n",
       "      <td>0.0</td>\n",
       "      <td>210.0</td>\n",
       "      <td>0.000</td>\n",
       "    </tr>\n",
       "  </tbody>\n",
       "</table>\n",
       "</div>"
      ],
      "text/plain": [
       "                                  frequency  recency      T  monetary_value\n",
       "CustomerID                                                                 \n",
       "0001117ff1305c1fe840697166e61564        1.0     11.0  344.0          87.280\n",
       "00028502859fd7e111d88c20456b59d5        0.0      0.0  342.0           0.000\n",
       "000306d200fd6e9b03de48d15348f5c2        0.0      0.0   33.0           0.000\n",
       "0003f3458a6e7b495a975c2d9ddda559        2.0    285.0  343.0          88.065\n",
       "000784b838b807ad589d4bc69c0c562f        0.0      0.0  210.0           0.000"
      ]
     },
     "execution_count": 9,
     "metadata": {},
     "output_type": "execute_result"
    }
   ],
   "source": [
    "data = summary_data_from_transaction_data(df, 'CustomerID', 'Timestamp', monetary_value_col='PurchaseValue')\n",
    "data.head()"
   ]
  },
  {
   "cell_type": "code",
   "execution_count": 10,
   "metadata": {},
   "outputs": [
    {
     "name": "stdout",
     "output_type": "stream",
     "text": [
      "Total number of customers: 23708\n",
      "============================================\n",
      "Purchase frequency summary:\n",
      "count    23708.000000\n",
      "mean         1.025477\n",
      "std          2.111326\n",
      "min          0.000000\n",
      "25%          0.000000\n",
      "50%          0.000000\n",
      "75%          1.000000\n",
      "max         95.000000\n",
      "Name: frequency, dtype: float64\n",
      "============================================\n",
      "Number of customers with only one purchase: 59%\n"
     ]
    }
   ],
   "source": [
    "print(f\"Total number of customers: {data.shape[0]}\")\n",
    "print(\"============================================\")\n",
    "print(\"Purchase frequency summary:\")\n",
    "print(data['frequency'].describe())\n",
    "print(\"============================================\")\n",
    "print(f\"Number of customers with only one purchase: {round(100*sum(data['frequency'] == 0)/float(len(data)))}%\")"
   ]
  },
  {
   "cell_type": "code",
   "execution_count": 11,
   "metadata": {},
   "outputs": [
    {
     "data": {
      "image/png": "[encoded data removed]",
      "text/plain": [
       "<Figure size 432x288 with 1 Axes>"
      ]
     },
     "metadata": {
      "needs_background": "light"
     },
     "output_type": "display_data"
    }
   ],
   "source": [
    "data['frequency'].plot(kind='hist', bins=50);"
   ]
  },
  {
   "cell_type": "code",
   "execution_count": 12,
   "metadata": {},
   "outputs": [
    {
     "data": {
      "image/png": "[encoded data removed]",
      "text/plain": [
       "<Figure size 432x288 with 1 Axes>"
      ]
     },
     "metadata": {
      "needs_background": "light"
     },
     "output_type": "display_data"
    }
   ],
   "source": [
    "data['recency'].plot(kind='hist', bins=50);"
   ]
  },
  {
   "cell_type": "markdown",
   "metadata": {},
   "source": [
    "# Implement the modified BG model "
   ]
  },
  {
   "cell_type": "markdown",
   "metadata": {},
   "source": [
    "Link to the Paper: http://mktg.uni-svishtov.bg/ivm/resources/Counting_Your_Customers.pdf"
   ]
  },
  {
   "cell_type": "code",
   "execution_count": 13,
   "metadata": {},
   "outputs": [
    {
     "name": "stdout",
     "output_type": "stream",
     "text": [
      "Results for Penalizer Coef = 0.001\n",
      "============================================\n",
      "RMSE: 0.784688298565694\n",
      "MAE: 0.47601167929563687\n",
      "============================================\n",
      "Results for Penalizer Coef = 0.01\n",
      "============================================\n",
      "RMSE: 0.7882827209452978\n",
      "MAE: 0.48508024773291425\n",
      "============================================\n",
      "Results for Penalizer Coef = 0.1\n",
      "============================================\n",
      "RMSE: 0.8167408690864871\n",
      "MAE: 0.5284833934830944\n",
      "============================================\n",
      "Results for Penalizer Coef = 0\n",
      "============================================\n",
      "RMSE: 0.7858345571565305\n",
      "MAE: 0.4753318361045578\n",
      "============================================\n"
     ]
    }
   ],
   "source": [
    "for value in [0.001,0.01,0.1,0]:\n",
    "    bgf = ModifiedBetaGeoFitter(penalizer_coef=value)\n",
    "    #bgf.fit(data['frequency'], data['recency'], data['T'])\n",
    "\n",
    "    holdout_data = calibration_and_holdout_data(df, \n",
    "                                                   'CustomerID', \n",
    "                                                   'Timestamp', \n",
    "                                                   calibration_period_end=pd.to_datetime('2017-09-07')) \n",
    "    bgf.fit(holdout_data['frequency_cal'], holdout_data['recency_cal'], holdout_data['T_cal'])\n",
    "    duration_holdout=90\n",
    "    holdout_data[\"model_predictions\"] = bgf.conditional_expected_number_of_purchases_up_to_time(duration_holdout, \n",
    "                                                                                              holdout_data[\"frequency_cal\"], \n",
    "                                                                                              holdout_data[\"recency_cal\"], \n",
    "                                                                                              holdout_data[\"T_cal\"])\n",
    "    print(f\"Results for Penalizer Coef = {value}\")\n",
    "    print(\"============================================\")\n",
    "    print(f\"RMSE: { np.sqrt(mean_squared_error(holdout_data.frequency_holdout,holdout_data.model_predictions)) }\")\n",
    "    print(f\"MAE: {mean_absolute_error(holdout_data.frequency_holdout,holdout_data.model_predictions)}\")\n",
    "    #print(plot_calibration_purchases_vs_holdout_purchases(bgf, holdout_data, n=10))\n",
    "    print(\"============================================\")\n",
    "    "
   ]
  },
  {
   "cell_type": "markdown",
   "metadata": {},
   "source": [
    "> Just a grid search of penalizer coef shows that value of 0.001 is better in case of RMSE and value 0 is better for MAE. I am going to just use penalizer_coef=0 for this exercise."
   ]
  },
  {
   "cell_type": "code",
   "execution_count": 14,
   "metadata": {},
   "outputs": [
    {
     "name": "stdout",
     "output_type": "stream",
     "text": [
      "<lifetimes.ModifiedBetaGeoFitter: fitted with 23708 subjects, a: 0.54, alpha: 85.27, b: 1.45, r: 0.79>\n"
     ]
    }
   ],
   "source": [
    "bgf = ModifiedBetaGeoFitter(penalizer_coef=0.0)\n",
    "bgf.fit(data['frequency'], data['recency'], data['T'])\n",
    "print(bgf)"
   ]
  },
  {
   "cell_type": "markdown",
   "metadata": {},
   "source": [
    "## Listing the 100 customers predicted to make the most purchases over the next 12 months."
   ]
  },
  {
   "cell_type": "markdown",
   "metadata": {},
   "source": [
    "> Use the fitted modified BG model to estimate the expected number of purchases by the customer with given history. "
   ]
  },
  {
   "cell_type": "code",
   "execution_count": 15,
   "metadata": {},
   "outputs": [],
   "source": [
    "t = 365\n",
    "data['predicted_purchases'] = bgf.conditional_expected_number_of_purchases_up_to_time(t, data['frequency'], data['recency'], data['T'])\n",
    "top_100_customers_by_expected_purchases = data.sort_values(by='predicted_purchases',ascending=False).head(100)"
   ]
  },
  {
   "cell_type": "code",
   "execution_count": 16,
   "metadata": {},
   "outputs": [
    {
     "data": {
      "text/plain": [
       "CustomerID\n",
       "a5fadc51b1ae844ad9a70ad3cfa46a64    64.472898\n",
       "48a503edbaded96a3be27deee11967a1    30.920429\n",
       "9f447f9415a380ac2eeee7df49c6ee7e    25.950894\n",
       "5f01420f0edda6555df5ce1cc62b986c    25.056529\n",
       "8d2ce54737dd404d20cadf1405d46dc8    22.918299\n",
       "a62a17bb46864da2c6da691d838971b3    20.753380\n",
       "3b11478939967e896ae2619615650f97    20.734257\n",
       "2ad9a83ee23110d8c2f4c01600b94f20    19.942978\n",
       "75fda9ea22086bf3814ff8c3f53de8ca    19.602512\n",
       "30aa99d3357244cf38ca04eadef1473a    18.891188\n",
       "5ac5ed64cd99ed2a8403b7a927e644ef    17.918448\n",
       "a719d6643a7832535de9aded2f467825    17.748813\n",
       "a1c8d419a97af1f7152e21c0dddfcbce    16.515711\n",
       "cdf642859ae8d9a1e489c3a655cba827    16.322381\n",
       "ed2b4332b3ca253cfbb0ffb54d3f5ae0    16.258608\n",
       "880474a82e33389ae7f377b2ea35bbdd    15.678406\n",
       "ca2202a96c2de6ca6b8a37a4a73fa730    15.618740\n",
       "16134915d822fe17588ae585935e1e81    15.293520\n",
       "f6a4f156c817ecb376d678f2aafdc570    15.255699\n",
       "742d5a52d4df7cb14246d7f390de5d8a    14.485388\n",
       "e675875db3648ab4dbbd52768296425c    14.309883\n",
       "663b3df249f614305792ec7bf1dead30    14.226625\n",
       "bb5d927e9f1aefa4db1881579e055a3e    14.099902\n",
       "61d2370d7ccfe63adf6ab388d7415dc2    13.860414\n",
       "9cb19c3fc7311aae01cf16571b528001    13.813860\n",
       "4f672b7c5d7a4214b08ec6906163c980    13.663159\n",
       "ca5cc4f526fcff10e85ce2685999e2c1    13.595661\n",
       "2b75f007b50d6b21e1501f47dc8d632b    13.539469\n",
       "cd1751286a561d51655ee47246b3019d    13.471346\n",
       "7108b2bb5964a79ee1e6c8a9acde8107    13.319844\n",
       "d6415e9e368a32ba39f756716c94e754    13.214802\n",
       "4dfc88995d296a1fc700130826eb7fec    13.208523\n",
       "08cf1040da9bd693c2373478bc984dac    13.037972\n",
       "9690217261010ad90c43c1dd1d058e9c    12.921811\n",
       "2b5b01bb4d4c38be8af78817bc6746d7    12.802967\n",
       "46454d378a1332750c086fb1101c07ce    12.721262\n",
       "dca76db00cc59dfbcdcc97c8bbc7f9f1    12.625242\n",
       "725d0a526feea495ab917ad7f8262765    12.461590\n",
       "a6d16066cc225139ddf01aa9fd8723aa    12.420723\n",
       "db0bd3b5ec2a35041de7436c699b215a    12.382532\n",
       "0425ae0d99a8e31c2758c25cca4ac2f7    12.368433\n",
       "1351b2fa6837a95abcf62a86054bdd12    12.317496\n",
       "d6cef078357c829aed16490e7fee5aa2    12.104385\n",
       "6f76cb699421405a52ad7c265af18d53    12.100213\n",
       "63d51858691a5b69e063632e054a085c    11.946512\n",
       "f11a653807d6bde53e4757f53e098c96    11.819540\n",
       "6bd3cf2b2bf52ee22bef14f87d1f9f5b    11.807829\n",
       "2ae416321f35d9ee6670ba973a7027e0    11.755676\n",
       "29505921638c03d201f08fd602dee9ab    11.751396\n",
       "1d9705cdc81922b119643d926e8b11de    11.672801\n",
       "42f0d47cbd705d7da473b5d3e5cabc6c    11.660446\n",
       "580a57e214a9d4df715accd2fe7065ba    11.528309\n",
       "8118d20dc12ff07a429b76488bbf8d16    11.509655\n",
       "765428c94ccfd7f17127a1bb12da3230    11.470037\n",
       "c3cbbdb19ce41c5c3df16cbfb39b1ec8    11.327723\n",
       "7863835a6120bfa52ccd665bfe03e9c8    11.317014\n",
       "d24ac002f1ba9f9d4869c9a1a07620a2    11.295641\n",
       "1a89258151f74319fd50778b0ed2f4f5    11.129856\n",
       "e3bd9c3b75a87afe59a7d235693bd35a    11.020970\n",
       "a434093fbf07b7f274ff64b472513cc3    10.971803\n",
       "5c7eec1661af8e5b46f1e227fae6e1ee    10.792952\n",
       "bef6f77f9664bf346550495098cd5796    10.786265\n",
       "68f0db4c3018522a7c24607851afd762    10.756684\n",
       "5afd521e378b4546fa52576528b9c1cc    10.651940\n",
       "c84aa8c190410b584f7d830f41ac681a    10.590369\n",
       "91b813ad50e0974adbb1461ed083237d    10.558123\n",
       "23d45be9a8057f64e1103185e53e4f2a    10.528676\n",
       "5cde4c0e001f042b081bf18070c53f4e    10.506065\n",
       "cff00f3b67e59b8c9a89972c6cbdabf5    10.390230\n",
       "22101eef0531a7087dc997fac3d6a7c5    10.378642\n",
       "c505f6e87ff9782ba4ca791ae088f329    10.331351\n",
       "14f57af72e3d2a16b7b4c088cbe3196f    10.248542\n",
       "13cb5c06f8d3c1c18e14539c16088e21    10.240098\n",
       "1200a4df001756f0fc97e0142c069442    10.209487\n",
       "922bdaa119d44065b17b0447255646ae    10.191878\n",
       "bcf0ea738c6bb798b7d05f2603f8fccf    10.129849\n",
       "6d61ac78f193cf9237f3ebfeede61704    10.126773\n",
       "d0ad6b624dfc37784a755144be8c76a6    10.122485\n",
       "15e20f36220dd72101f937433465f328    10.117435\n",
       "25e5fe3494dcb7d0de25fcd6f6b499d9    10.098479\n",
       "47810b7c7fc24d3cf8287d03de62448b    10.086906\n",
       "80ed49605a244a6b8df7a0185125075d    10.085048\n",
       "b32f83615c36a983c147d57d68f20804    10.060965\n",
       "a92534133444b5028d12a129b1b128f7    10.049583\n",
       "d88c16f53bf1f538e5dad005530611a9     9.970478\n",
       "52558a8c536649d21e274da275ce1c8e     9.938825\n",
       "326ede7ae03f35a1c596fd5e9029586f     9.918450\n",
       "2da10b67a4882e14d257c728eda763c3     9.911144\n",
       "0b937997e6f55b43f95a14c1c6fe94e2     9.888602\n",
       "51b3b64735d01118ff09427f8082277a     9.849989\n",
       "feeb6791f303fd34059c06d368f218e3     9.796878\n",
       "6116c18166249fed2e39ee8f3a0733cf     9.778412\n",
       "052a3c248db5edab01d32871d5acdbfa     9.760051\n",
       "9459310958c7741a71359ef3a151b9ed     9.756060\n",
       "4278f21f39173ebb616faa118c22384a     9.752150\n",
       "bcf1f968bf4bf2b9241f77366a4aee86     9.741493\n",
       "42059a7ede026d409ff0f255635d7a08     9.738164\n",
       "ea623f715c09492b8a565e2b8dfff305     9.689910\n",
       "e3a48ef6277d4ee1f0dffe0b50cc9a99     9.666511\n",
       "51bf88a0aaf6da3d94ab246c9c857017     9.610405\n",
       "Name: predicted_purchases, dtype: float64"
      ]
     },
     "execution_count": 16,
     "metadata": {},
     "output_type": "execute_result"
    }
   ],
   "source": [
    "top_100_customers_by_expected_purchases.loc[:,'predicted_purchases']"
   ]
  },
  {
   "cell_type": "markdown",
   "metadata": {},
   "source": [
    "## Listing the 100 customers predicted to spend the most over the next 12 months"
   ]
  },
  {
   "cell_type": "markdown",
   "metadata": {},
   "source": [
    "> We can fit gamma-gamma model to our data, to predict likely spend per transaction in the future at the customer level. We can only consider only customers who has made at least one repurchase. We need to remove one-off customers since ther monetary value is zero \n",
    "> Then we can use our fitted bgf model to predict expected purchases and capture CLV at customer level to get the customers with most spend in next 12 months"
   ]
  },
  {
   "cell_type": "code",
   "execution_count": 17,
   "metadata": {},
   "outputs": [],
   "source": [
    "customers_with_valid_mv = data.loc[data['frequency']>0].copy()"
   ]
  },
  {
   "cell_type": "code",
   "execution_count": 18,
   "metadata": {},
   "outputs": [
    {
     "name": "stdout",
     "output_type": "stream",
     "text": [
      "<lifetimes.GammaGammaFitter: fitted with 9647 subjects, p: 4.57, q: 3.65, v: 135.88>\n"
     ]
    }
   ],
   "source": [
    "ggf = GammaGammaFitter(penalizer_coef = 0)\n",
    "ggf.fit(customers_with_valid_mv['frequency'],customers_with_valid_mv['monetary_value'])\n",
    "print(ggf)"
   ]
  },
  {
   "cell_type": "code",
   "execution_count": 19,
   "metadata": {},
   "outputs": [],
   "source": [
    "top_100_customers_by_expected_spend = ggf.customer_lifetime_value(\n",
    "    bgf,\n",
    "    data['frequency'],\n",
    "    data['recency'],\n",
    "    data['T'],\n",
    "    data['monetary_value'],\n",
    "    time=12\n",
    ").sort_values(ascending=False).head(100)"
   ]
  },
  {
   "cell_type": "code",
   "execution_count": 20,
   "metadata": {},
   "outputs": [
    {
     "data": {
      "text/plain": [
       "CustomerID\n",
       "a5fadc51b1ae844ad9a70ad3cfa46a64    25936.659045\n",
       "ca2202a96c2de6ca6b8a37a4a73fa730    19138.347625\n",
       "dca76db00cc59dfbcdcc97c8bbc7f9f1    11086.783762\n",
       "5ac5ed64cd99ed2a8403b7a927e644ef    10300.620674\n",
       "60c19a709e3ced2d16d7100eb1069df5     9031.054772\n",
       "98f8e41f45721cbe49a3147f6cf62432     7066.549715\n",
       "5f01420f0edda6555df5ce1cc62b986c     6944.893982\n",
       "a92534133444b5028d12a129b1b128f7     6801.786015\n",
       "089ecc49200cfe79584d0bec2a3cf8c0     6752.043094\n",
       "742d5a52d4df7cb14246d7f390de5d8a     6710.081606\n",
       "eba458987dc67827871c1d4d92e646e1     6549.315901\n",
       "a719d6643a7832535de9aded2f467825     6522.095586\n",
       "ed2b4332b3ca253cfbb0ffb54d3f5ae0     6497.956574\n",
       "48a503edbaded96a3be27deee11967a1     6342.006690\n",
       "9cb19c3fc7311aae01cf16571b528001     6319.464955\n",
       "922bdaa119d44065b17b0447255646ae     6308.737323\n",
       "24f05bfab01fef56ec049a828ebe20ab     6213.942236\n",
       "66162981fc95e268e45bbfc738059687     6155.055107\n",
       "30aa99d3357244cf38ca04eadef1473a     6024.579161\n",
       "cd4cb9ec252a085ed4d2d3af7c18280a     5958.049446\n",
       "a62a17bb46864da2c6da691d838971b3     5914.081135\n",
       "42059a7ede026d409ff0f255635d7a08     5743.911967\n",
       "2b75f007b50d6b21e1501f47dc8d632b     5620.515450\n",
       "f09ff1c6c4ac8ea95d8621a94bb325fd     5485.850893\n",
       "ede2a476c3894cf65d1619987d148422     5389.046719\n",
       "f11a653807d6bde53e4757f53e098c96     5028.235463\n",
       "4f672b7c5d7a4214b08ec6906163c980     4908.904174\n",
       "2f486887c2edb2571d32c8cd15301711     4827.552635\n",
       "ca84dc4660f651a11a82041300367fae     4768.938507\n",
       "1200a4df001756f0fc97e0142c069442     4583.691443\n",
       "fe403ffcf47b4efdf39874d181ae6da4     4547.317704\n",
       "7863835a6120bfa52ccd665bfe03e9c8     4494.282589\n",
       "a63d0d4fe5bc662678bbbe6fbde1d900     4482.969407\n",
       "741bbe09f8795badb5292473bff42ead     4364.705384\n",
       "8b6aa340953dad198a9d60bd12abfcb9     4351.264221\n",
       "880474a82e33389ae7f377b2ea35bbdd     4316.256291\n",
       "0b9f48aef3295165238b3b14fffb981a     4306.621685\n",
       "801266226172319918cca5963b492beb     4267.246325\n",
       "80b4fe892813996f469f44c28a0d1c10     4237.352108\n",
       "60b884e115b971ee52f550a8b64750f4     4126.587999\n",
       "0b937997e6f55b43f95a14c1c6fe94e2     4126.505389\n",
       "56a3c0b28932e67c65c14efd9214f732     4077.026595\n",
       "51ff794d843ce28fb7ca8885094979a7     4010.554399\n",
       "79d35a58b719d48ca15d7a573f8a2379     3867.742673\n",
       "ea6bd67206a400c56a02ef8f2e4bf01e     3790.867656\n",
       "5911b41fe8c5cd07a67571724f073e20     3788.945084\n",
       "a033783169cd08fea7bcc7189b4859a5     3775.762530\n",
       "51b3b64735d01118ff09427f8082277a     3773.129559\n",
       "0ae482faaa8baa024c5fcb1346c5f97e     3652.210393\n",
       "fc9447df681b99d9d9b74ea0056aa39a     3613.925104\n",
       "75fda9ea22086bf3814ff8c3f53de8ca     3586.478652\n",
       "29505921638c03d201f08fd602dee9ab     3577.808582\n",
       "de70325370400abbce654bb35511812d     3575.680797\n",
       "23a5e733f6dfdb2ebde078d407c37031     3566.315441\n",
       "d6cef078357c829aed16490e7fee5aa2     3565.619274\n",
       "725d0a526feea495ab917ad7f8262765     3536.865997\n",
       "e06bb6237a574b7216bf557a6477b10d     3530.023586\n",
       "6df09da9103ec49551e93232f684c323     3519.434731\n",
       "7b054e89ebafd6033a234ec267bc60b5     3505.911471\n",
       "a48de7bf6243a47341438a0e50bb2434     3498.190757\n",
       "580a57e214a9d4df715accd2fe7065ba     3471.193058\n",
       "52cc702cd8c70995cf6ba1c762e341d4     3458.386723\n",
       "a15d0cac4e30d80cc140913d01671552     3444.191643\n",
       "ab30a46cc9f7d41f0ee382ff9dd48ad0     3433.589066\n",
       "ba5cf27a059fb5e6357dc3e7f70dbab2     3427.964536\n",
       "6f9ebbe87978c734ba71c0032e1f3e45     3390.492930\n",
       "e4d423cc47a17c9ca7cea0c12e8e22be     3375.463313\n",
       "f2114d783824ed6c7c2658be58579e3e     3353.511758\n",
       "8291cd5d95841c98839e8f58d5816cf8     3339.842862\n",
       "34bff14a781e6eabd03f59ac8f610ed7     3334.186974\n",
       "a8c6dd0d4f1b33878dfc2f3559e88f87     3326.192355\n",
       "63d51858691a5b69e063632e054a085c     3308.988895\n",
       "52558a8c536649d21e274da275ce1c8e     3307.622207\n",
       "e0d591d2bbc656a278b5675d9bcae6c3     3260.141516\n",
       "6dce8b4af8ca65025bc7f84457ae13a1     3259.759040\n",
       "b783899d4ba9b328769e55d592fa8deb     3234.931934\n",
       "25e5fe3494dcb7d0de25fcd6f6b499d9     3233.332033\n",
       "fc837095bb2d1f732cba3e195d9abe6e     3223.814106\n",
       "4278f21f39173ebb616faa118c22384a     3219.553135\n",
       "2143bad4fa8805114a00a73853ac6ace     3217.651306\n",
       "d80a3467a4f6fa760b9b1d2769f03295     3213.595921\n",
       "af77cebc5448b68b026556858d60c8cc     3192.193464\n",
       "cda380d6b9e87ecf02a85e994622131c     3191.928552\n",
       "607b2c3d2eb689b96ebf551fe735e203     3188.031857\n",
       "40f76eef131511bd16aaa2ff6e8ed2c6     3143.068984\n",
       "cff00f3b67e59b8c9a89972c6cbdabf5     3118.437113\n",
       "323f6b3b7a7b0d114ea4bf79b6014241     3115.477660\n",
       "ffe8da9e101a7d6c33b8c3be8eb705bc     3107.085177\n",
       "bfd2558c6ca88693b5721952422b5b40     3093.446682\n",
       "2e80c8b5d073f8310276f3ddfa2a1130     3084.277394\n",
       "547bfa0c00ff82eb6f62d7a2b2cf4be7     3079.138331\n",
       "6061e84cb60705e4a2a378538353ba4d     3049.621312\n",
       "888854e2551d1c54869ba39ba326fe76     3044.055106\n",
       "5eb940151492ace9a73fe3567d8fb7e6     3039.639568\n",
       "35bd91d013d04ffe65a66c2864be2c63     3036.636988\n",
       "2dc888555c411f754837e2289df55106     3018.992507\n",
       "68f0db4c3018522a7c24607851afd762     3002.201757\n",
       "0cb0b9356e0a85830bef4f4fda74f92b     3001.155078\n",
       "e74b7b4af8d956ed39d60c35fac0402c     3000.197064\n",
       "e2f6e9abf83c049a60caba1089a35f7d     2999.033898\n",
       "Name: clv, dtype: float64"
      ]
     },
     "execution_count": 20,
     "metadata": {},
     "output_type": "execute_result"
    }
   ],
   "source": [
    "top_100_customers_by_expected_spend"
   ]
  },
  {
   "cell_type": "markdown",
   "metadata": {},
   "source": [
    "# Exploring the statistical assumptions that the model makes and checking if they are valid for a model of a customer buying widgets from an ecommerce store?"
   ]
  },
  {
   "cell_type": "code",
   "execution_count": 21,
   "metadata": {},
   "outputs": [
    {
     "data": {
      "image/png": "[encoded data removed]",
      "text/plain": [
       "<Figure size 432x288 with 1 Axes>"
      ]
     },
     "metadata": {
      "needs_background": "light"
     },
     "output_type": "display_data"
    }
   ],
   "source": [
    "inter_purchase_times = df.groupby('CustomerID')['Timestamp'].diff().apply(lambda x: x.days)\n",
    "inter_purchase_times.hist(bins=40)\n",
    "plt.yscale('log');\n",
    "plt.xlabel('IPT (days)') ;\n",
    "plt.ylabel('Number of Purchases') ;"
   ]
  },
  {
   "cell_type": "code",
   "execution_count": 22,
   "metadata": {},
   "outputs": [
    {
     "data": {
      "image/png": "[encoded data removed]",
      "text/plain": [
       "<Figure size 432x288 with 1 Axes>"
      ]
     },
     "metadata": {
      "needs_background": "light"
     },
     "output_type": "display_data"
    }
   ],
   "source": [
    "n_purchases = df.groupby(['CustomerID']).size()\n",
    "n_purchases.hist(bins=(n_purchases.max(axis=0) - n_purchases.min(axis=0)) + 1)\n",
    "plt.xlabel('Number of Purchases') ;\n",
    "plt.ylabel('Number of Customers');"
   ]
  },
  {
   "cell_type": "markdown",
   "metadata": {},
   "source": [
    "## The first assumption of BG model is that the number of purchases made by a customer follows a poisson process with rate lambda. In other words, the time between the purchases are exponentially distributed with rate lambda.  \n",
    "> Yes, all customers are not same. some customers might be looking for new widgets all the time and others might buy from time to time. It makes more sense to have a distribution for each customer the transaction rate lambda, rather than assuming that a single lambda for all the customers"
   ]
  },
  {
   "cell_type": "markdown",
   "metadata": {},
   "source": [
    "## The second assumption is that the purchase rates follow a gamma distribution\n",
    "> Gamma distribution is perfect because the purchase rate lambda is a positive value for all customers and most of the customers would buy widgets at a similar rate and right skewed as only few customers buy often. Gamma distribution is generally suitable prior for positive parameters  "
   ]
  },
  {
   "cell_type": "markdown",
   "metadata": {},
   "source": [
    "## Third Assumption: After any purchase, a customer becomes inactive with probability p. The point at which the customer becomes inactive is distributed across transactions according to a geometric distribution\n",
    "> After everytime a customer buys a widget from our ecommerce website, for next time he/she will onsider the changes in price, quality and variety since his/her last visit, and then decide whether to purchase again next time, or look for another website. So this assumption of a customer becoming inactive after any purchase holds good.\n",
    "> Gamma distribution models How many failures until a success? here success can be seen as customer becoming inactive. So at each purchase the customer was active for all the purchases before and has a probability of p becoming inactive after current purchase. Also, since there is no limit on number of purchases by a customer and probability of becoming inactive doesn't change after each purchase geometric is best suited."
   ]
  },
  {
   "cell_type": "markdown",
   "metadata": {},
   "source": [
    "## Fourth Assumption: The probability of becoming inactive, p , for all customers follows beta distribution\n",
    "> Again the customers vary widely, so it makes sense to have different probability p for each customer. Some customers might be looking for one widget, they buy and leave, and some might be constantly looking for widgets all the time. We need to have distribution that is flexible. Beta distribution is flexible and best suited to model probabilities (since they have range [0,1])"
   ]
  },
  {
   "cell_type": "markdown",
   "metadata": {},
   "source": [
    "## Fifth Assumption: Modified BG model has one more assumption, which is the customers have additional probability to become inactive after first purchase. This helps in modeling zero repurchasers \n",
    ">This addition tries to model the customer behaviour close to reality. For the current porblem we cans ee that ~60% are zero repurchasers , meaning have bought only once in the past year. So, Modified BG model suits to model our widget purchase problem"
   ]
  },
  {
   "cell_type": "markdown",
   "metadata": {},
   "source": [
    "## Checking if assumptions are true for the given data"
   ]
  },
  {
   "cell_type": "markdown",
   "metadata": {},
   "source": [
    "We check for two assumptions in the following cells\n",
    ">* To see if customer purchase pattern follows a poisson distribution. We use chi-square test, where we calculate purchase rate for a customer and sample random poisson process using that rate. Then we create observed and expected frequency tables for number of purchases and test the hypothesis. If data is too small and if count for each bin is small then this test is invalid.\n",
    ">* To see if average purchase value is stable over time. We use Augmented Dickey-Fuller Test, where we check if there is a correlation between the lags of the purchase time-series."
   ]
  },
  {
   "cell_type": "code",
   "execution_count": 23,
   "metadata": {},
   "outputs": [],
   "source": [
    "def ADF_Stationarity_Test(timeseries, printResults = True):\n",
    "    \"\"\"\n",
    "    \n",
    "    Test if given timeseries is stationary or not.\n",
    "    Uses Augmented Dickey-Fuller Test.\n",
    "    H0: there is presence of unit root\n",
    "    Ha: The time-series is stationary\n",
    "\n",
    "    Parameters\n",
    "    ----------\n",
    "    ts_df : numpy array \n",
    "        the timeseries to be checked\n",
    "    printResults : Boolean, Optional\n",
    "        Should the results of ADF test to be printed or not\n",
    "\n",
    "    Returns\n",
    "    -------\n",
    "    int\n",
    "        1 if stationary else 0 and -1 if error\n",
    "\n",
    "    \"\"\"\n",
    "    \n",
    "    #Dickey-Fuller test:\n",
    "    try:\n",
    "        adfTest = adfuller(timeseries, autolag='AIC')\n",
    "    except Exception as e:\n",
    "        return(-1)\n",
    "    \n",
    "    pValue = adfTest[1]\n",
    "        \n",
    "    if (pValue<.05):\n",
    "        isStationary = 1\n",
    "        #print(\"p-value is less than significance level, time series is stationary\")\n",
    "    else:\n",
    "        isStationary = 0\n",
    "        #print(\"p-value is greater than significance level, time series is non-stationary\")\n",
    "        \n",
    "    if printResults:\n",
    "        dfResults = pd.Series(adfTest[0:4], index=['ADF Test Statistic','P-Value','# Lags Used','# Observations Used'])\n",
    "\n",
    "        #Add Critical Values\n",
    "        for key,value in adfTest[4].items():\n",
    "            dfResults[f'Critical Value {key}'] = value\n",
    "\n",
    "        #print('Augmented Dickey-Fuller Test Results:')\n",
    "        #print(dfResults)\n",
    "    \n",
    "    return(isStationary)\n",
    "\n",
    "def plot_ts(ts_df):\n",
    "    \"\"\"\n",
    "    \n",
    "    Custom function to plot timeseries\n",
    "\n",
    "    Parameters\n",
    "    ----------\n",
    "    ts_df : dataframe \n",
    "        should have 'Timestamp' & 'PurchaseValue' fields\n",
    "\n",
    "    Returns\n",
    "    -------\n",
    "    Prints a time series plot\n",
    "\n",
    "    \"\"\"\n",
    "    ts_df['Timestamp'] = pd.to_datetime(ts_df['Timestamp'])\n",
    "    fig, ax = plt.subplots(figsize=(12,6))\n",
    "    ax.plot(ts_df.Timestamp, ts_df.PurchaseValue)\n",
    "    fig.autofmt_xdate()\n",
    "    \n",
    "def get_ordered_customer_data(customer):\n",
    "    \"\"\"\n",
    "    \n",
    "    Custom function to get ordered time series\n",
    "    of purchases for a customer\n",
    "\n",
    "    Parameters\n",
    "    ----------\n",
    "    customer : string \n",
    "        Customer ID \n",
    "\n",
    "    Returns\n",
    "    -------\n",
    "    Dataframe\n",
    "        with gap filled and ordered purchase time series for a customer\n",
    "\n",
    "    \"\"\"\n",
    "\n",
    "    cust_df = df.loc[df.CustomerID==customer].copy()\n",
    "    cust_df['Timestamp'] = cust_df['Timestamp'].dt.date\n",
    "    ts_df = pd.DataFrame({'Timestamp':pd.date_range(cust_df.Timestamp.min(),cust_df.Timestamp.max())})\n",
    "    ts_df['Timestamp'] = ts_df['Timestamp'].dt.date\n",
    "    ts_df = ts_df.merge(cust_df,on='Timestamp',how='left')\n",
    "    ts_df['CustomerID'].fillna(customer,inplace=True)\n",
    "    ts_df.PurchaseValue.fillna(0,inplace=True)\n",
    "    ts_df.loc[:,'is_purchase'] = np.where(ts_df['PurchaseValue']>0,1,0)\n",
    "    \n",
    "    return(ts_df)\n",
    "\n",
    "def custom_chisq_test(comparison_df):\n",
    "    \n",
    "    \"\"\"\n",
    "    \n",
    "    Test if purchases of a customer is poisson distributed\n",
    "    Uses chi-square Test.\n",
    "    H0: The observed frequencies for a variable match the expected frequencies\n",
    "    Ha: The observed frequencies for a variable doesn't match the expected frequencies and \n",
    "        they are form different distributions\n",
    "\n",
    "    Parameters\n",
    "    ----------\n",
    "    comparison_df : dataframe, with observed and expected frequencies\n",
    "\n",
    "    Returns\n",
    "    -------\n",
    "    int\n",
    "        1 if poisson distributed else 0\n",
    "\n",
    "    \"\"\"\n",
    "    \n",
    "    statistic,p_value = chisquare(comparison_df.Observed, f_exp=comparison_df.Expected)\n",
    "    \n",
    "    if p_value<0.05:\n",
    "        IsPoisson = 0\n",
    "    else:\n",
    "        IsPoisson = 1\n",
    "        \n",
    "    return(IsPoisson)\n",
    "    \n",
    "    "
   ]
  },
  {
   "cell_type": "code",
   "execution_count": 24,
   "metadata": {},
   "outputs": [],
   "source": [
    "all_customers = np.unique(df[df.groupby('CustomerID')['Timestamp'].transform('size') >= 5]['CustomerID']).tolist()\n",
    "#all_customers = np.unique(df.CustomerID.values).tolist()\n",
    "assumption_results = pd.DataFrame({'Customer':all_customers})\n",
    "assumption_results.loc[:,'isStationary'] = 0\n",
    "assumption_results.loc[:,'isPoisson'] = 0"
   ]
  },
  {
   "cell_type": "code",
   "execution_count": 25,
   "metadata": {},
   "outputs": [],
   "source": [
    "for customer in all_customers:\n",
    "    \n",
    "    #Stationarity test\n",
    "    ts_df = get_ordered_customer_data(customer)\n",
    "    purchaseSeries = ts_df.sort_values('Timestamp')['PurchaseValue'].values\n",
    "    assumption_results.loc[assumption_results.Customer==customer,'isStationary'] = ADF_Stationarity_Test(purchaseSeries,printResults=False)\n",
    "    \n",
    "    #Poisson Process test\n",
    "    grp = ts_df.groupby('Timestamp').agg({'is_purchase':'sum'}).reset_index()\n",
    "    lam = grp.is_purchase.mean()\n",
    "    \n",
    "    observed_df = grp.groupby('is_purchase').size().reset_index()\n",
    "    observed_df.columns = ['n_purchase','Observed']\n",
    "    \n",
    "    expected= pd.DataFrame({'Expected':poisson.rvs(mu=lam,size=len(ts_df))})\n",
    "    expected_df = expected.groupby('Expected').size().reset_index()\n",
    "    expected_df.columns = ['n_purchase','Expected']\n",
    "    \n",
    "    comparison_df = observed_df.merge(expected_df,on='n_purchase',how='inner')\n",
    "    assumption_results.loc[assumption_results.Customer==customer,'isPoisson'] = custom_chisq_test(comparison_df)\n",
    "    \n",
    "    "
   ]
  },
  {
   "cell_type": "code",
   "execution_count": 26,
   "metadata": {},
   "outputs": [
    {
     "name": "stdout",
     "output_type": "stream",
     "text": [
      "Total Number of customers checked: 2067\n",
      "Number of Customers where the poisson distribution assumption fails: 190\n",
      "Number of Customers where the stationarity assumption fails: 167\n",
      "Number of Customers Test failed: 0\n"
     ]
    }
   ],
   "source": [
    "print(f\"Total Number of customers checked: {len(assumption_results)}\")\n",
    "print(f\"Number of Customers where the poisson distribution assumption fails:\\\n",
    " {assumption_results.loc[assumption_results['isPoisson']==0].shape[0]}\")\n",
    "print(f\"Number of Customers where the stationarity assumption fails:\\\n",
    " {assumption_results.loc[assumption_results['isStationary']==0].shape[0]}\")\n",
    "print(f\"Number of Customers Test failed:\\\n",
    " {assumption_results.loc[assumption_results['isStationary']==-1].shape[0]}\")"
   ]
  },
  {
   "cell_type": "markdown",
   "metadata": {},
   "source": [
    "> Checking for the assumptions, most(~90%) of the customers have poisson distributed purchases and purchase value is stationary over time"
   ]
  },
  {
   "cell_type": "code",
   "execution_count": 27,
   "metadata": {},
   "outputs": [
    {
     "data": {
      "image/png": "[encoded data removed]",
      "text/plain": [
       "<Figure size 864x432 with 1 Axes>"
      ]
     },
     "metadata": {
      "needs_background": "light"
     },
     "output_type": "display_data"
    },
    {
     "data": {
      "image/png": "[encoded data removed]",
      "text/plain": [
       "<Figure size 864x432 with 1 Axes>"
      ]
     },
     "metadata": {
      "needs_background": "light"
     },
     "output_type": "display_data"
    }
   ],
   "source": [
    "customer_1 = assumption_results.loc[assumption_results['isPoisson']==0,'Customer'].sample(n=1).values[0]\n",
    "customer_2 = assumption_results.loc[assumption_results['isPoisson']==1,'Customer'].sample(n=1).values[0]\n",
    "plot_ts(get_ordered_customer_data(customer_1))\n",
    "plt.title(\"Customer not following poisson process\");\n",
    "plot_ts(get_ordered_customer_data(customer_2))\n",
    "plt.title(\"Customer following poisson process\");"
   ]
  },
  {
   "cell_type": "code",
   "execution_count": 28,
   "metadata": {},
   "outputs": [
    {
     "data": {
      "image/png": "[encoded data removed]",
      "text/plain": [
       "<Figure size 864x432 with 1 Axes>"
      ]
     },
     "metadata": {
      "needs_background": "light"
     },
     "output_type": "display_data"
    },
    {
     "data": {
      "image/png": "[encoded data removed]",
      "text/plain": [
       "<Figure size 864x432 with 1 Axes>"
      ]
     },
     "metadata": {
      "needs_background": "light"
     },
     "output_type": "display_data"
    }
   ],
   "source": [
    "customer_1 = assumption_results.loc[assumption_results['isStationary']==0,'Customer'].sample(n=1).values[0]\n",
    "customer_2 = assumption_results.loc[assumption_results['isStationary']==1,'Customer'].sample(n=1).values[0]\n",
    "plot_ts(get_ordered_customer_data(customer_1))\n",
    "plt.title(\"Customer with purchase value not stationary\");\n",
    "plot_ts(get_ordered_customer_data(customer_2))\n",
    "plt.title(\"Customer with purchase value stationary\");"
   ]
  },
  {
   "cell_type": "markdown",
   "metadata": {},
   "source": [
    "# Simulation"
   ]
  },
  {
   "cell_type": "markdown",
   "metadata": {},
   "source": [
    "Writing a simulation that shows how many customers are alive after 10 days, 1 year, 10 years and 100 years and how many purchases they have made in that time using the modified BG model."
   ]
  },
  {
   "cell_type": "markdown",
   "metadata": {},
   "source": [
    "Model Parameters from our earlier fitted model\n",
    ">* a     = 0.54\n",
    ">* alpha = 85.27 (1/scale of gamma)\n",
    ">* b     = 1.45\n",
    ">* r     = 0.79 (shape of gamma)\n",
    "\n",
    "We have purchase rate of all customers distributed by gamma(shape=0.79,scale=0.012) and probability of becoming inactive distributed by Beta(a=0.54,b=1.45)"
   ]
  },
  {
   "cell_type": "code",
   "execution_count": 29,
   "metadata": {},
   "outputs": [],
   "source": [
    "def expand_grid(dct):\n",
    "    \"\"\"Custome function to create a dataframe using combinations of different lists\"\"\"\n",
    "    \n",
    "    rows = itertools.product(*dct.values())\n",
    "    return pd.DataFrame.from_records(rows, columns=dct.keys())"
   ]
  },
  {
   "cell_type": "code",
   "execution_count": 30,
   "metadata": {},
   "outputs": [],
   "source": [
    "number_of_days_in_a_year = 365\n",
    "number_of_days_in_a_month = 30\n",
    "number_of_days_in_a_week = 7\n",
    "#parameters found by our model\n",
    "r = bgf.params_.r\n",
    "alpha = bgf.params_.alpha\n",
    "a = bgf.params_.a\n",
    "b = bgf.params_.b\n",
    "\n",
    "def simulation(number_of_customers,lambdas,probs,time_period=10,freq='days'):\n",
    "    \"\"\" Simulation function that simualtes purchases for a customer based on the parameters from fitted bgf model\"\"\"\n",
    "   \n",
    "    #to get the frequency right\n",
    "    if freq == 'years':\n",
    "        time_period = time_period*number_of_days_in_a_year\n",
    "    if freq == 'months':\n",
    "        time_period = time_period*number_of_days_in_a_month\n",
    "    if freq == 'weeks':\n",
    "        time_period = time_period*number_of_days_in_a_week\n",
    "    \n",
    "    start=1\n",
    "    number_of_active_customers=np.zeros(number_of_customers)\n",
    "    number_of_purchases=np.zeros(number_of_customers)\n",
    "    \n",
    "      #results = expand_grid(\n",
    "        #{'customer': range(1,number_of_customers+1,1),\n",
    "         #'time_period': range(1, time_period+1, 1),\n",
    "         #'purchase': [0]}\n",
    "        #)\n",
    "    \n",
    "    #for each of 100 random customers\n",
    "    for i in range(number_of_customers):\n",
    "        \n",
    "        # simulate a exponential time using the randomly sampled purchase rate\n",
    "        # using ceil to give an interger number of days. \n",
    "        next_purchase_time = np.ceil(np.random.exponential(scale=1.0 / lambdas[i]))\n",
    "        \n",
    "        # Decide if the customer is active or not after the purchase\n",
    "        active = np.random.random() > probs[i]\n",
    "        \n",
    "        # if active, and the next purchase period is before time period ends add the purchase \n",
    "        # and simulate next purchase\n",
    "        #The loop ends, if either customer is inactive or is alive but purchases only after set observation period\n",
    "        while next_purchase_time <= time_period and active:\n",
    "            \n",
    "            #results.loc[(results.customer==(i+1))&(results.time_period==(next_purchase_time+start)),'purchase'] = 1\n",
    "            number_of_purchases[i]+=1\n",
    "            next_purchase_time += np.ceil(np.random.exponential(scale=1.0 / lambdas[i]))\n",
    "            active = np.random.random() > probs[i]\n",
    "           \n",
    "        \n",
    "        # record here if customer is active or not\n",
    "        if active:\n",
    "            number_of_active_customers[i]+=1\n",
    "            \n",
    "    # total up all the purchases from all customers\n",
    "    #number_of_purchases = results['purchase'].sum()\n",
    "    \n",
    "    return(number_of_purchases,number_of_active_customers)"
   ]
  },
  {
   "cell_type": "code",
   "execution_count": 31,
   "metadata": {},
   "outputs": [],
   "source": [
    "number_of_customers=100\n",
    "# use the fitted parameters from the bgf model to simualate transaction rate\n",
    "# and p_alive for n customers\n",
    "lambdas = np.random.gamma(shape=r, scale=1/alpha, size=number_of_customers)\n",
    "probs = np.random.beta(a,b,size=number_of_customers)\n",
    "number_of_simulations = 1\n",
    "results_dict = {}"
   ]
  },
  {
   "cell_type": "code",
   "execution_count": 32,
   "metadata": {},
   "outputs": [
    {
     "name": "stdout",
     "output_type": "stream",
     "text": [
      "CPU times: user 73 ms, sys: 2.24 ms, total: 75.2 ms\n",
      "Wall time: 94.2 ms\n"
     ]
    }
   ],
   "source": [
    "%%time\n",
    "for n in range(number_of_simulations):\n",
    "    number_of_purchases1,number_of_active_customers1 = simulation(number_of_customers,lambdas,probs,time_period=10,freq='days')\n",
    "    number_of_purchases2,number_of_active_customers2 = simulation(number_of_customers,lambdas,probs,time_period=1,freq='years')\n",
    "    number_of_purchases3,number_of_active_customers3 = simulation(number_of_customers,lambdas,probs,time_period=10,freq='years')\n",
    "    number_of_purchases4,number_of_active_customers4 = simulation(number_of_customers,lambdas,probs,time_period=100,freq='years')\n",
    "    results_dict[n+1] = [number_of_purchases1.sum(),number_of_active_customers1.sum(),\n",
    "                        number_of_purchases2.sum(),number_of_active_customers2.sum(),\n",
    "                        number_of_purchases3.sum(),number_of_active_customers3.sum(),\n",
    "                        number_of_purchases4.sum(),number_of_active_customers4.sum()]"
   ]
  },
  {
   "cell_type": "code",
   "execution_count": 33,
   "metadata": {},
   "outputs": [],
   "source": [
    "simulation_results = pd.DataFrame(results_dict.items())\n",
    "simulation_results.columns = ['SimualtionID','results']\n",
    "simulation_results[['n_purchases_10_days','n_active_10_days','n_purchases_1_years','n_active_1_years',\n",
    "                   'n_purchases_10_years','n_active_10_years','n_purchases_100_years','n_active_100_years']] \\\n",
    "                    = pd.DataFrame(simulation_results.results.values.tolist(), index= simulation_results.index)\n",
    "simulation_results.drop('results',axis=1,inplace=True)"
   ]
  },
  {
   "cell_type": "code",
   "execution_count": 34,
   "metadata": {},
   "outputs": [
    {
     "name": "stdout",
     "output_type": "stream",
     "text": [
      "Number of customers: 100\n",
      "Number of simulations: 1\n",
      "=====================================================\n",
      "Number of purchases made by the customers after 10 days: 10.0\n",
      "Number of active customers after 10 days: 72.0\n",
      "=====================================================\n",
      "Number of purchases made by the customers after 1 years: 185.0\n",
      "Number of active customers after 1 years: 49.0\n",
      "=====================================================\n",
      "Number of purchases made by the customers after 10 years: 787.0\n",
      "Number of active customers after 10 years: 21.0\n",
      "=====================================================\n",
      "Number of purchases made by the customers after 100 years: 5584.0\n",
      "Number of active customers after 100 years: 11.0\n",
      "=====================================================\n"
     ]
    }
   ],
   "source": [
    "print(f\"Number of customers: {number_of_customers}\\nNumber of simulations: {number_of_simulations}\")\n",
    "print(\"=====================================================\")\n",
    "print(f\"Number of purchases made by the customers after 10 days: {simulation_results.n_purchases_10_days.mean()}\")\n",
    "print(f\"Number of active customers after 10 days: {simulation_results.n_active_10_days.mean()}\")\n",
    "print(\"=====================================================\")\n",
    "print(f\"Number of purchases made by the customers after 1 years: {simulation_results.n_purchases_1_years.mean()}\")\n",
    "print(f\"Number of active customers after 1 years: {simulation_results.n_active_1_years.mean()}\")\n",
    "print(\"=====================================================\")\n",
    "print(f\"Number of purchases made by the customers after 10 years: {simulation_results.n_purchases_10_years.mean()}\")\n",
    "print(f\"Number of active customers after 10 years: {simulation_results.n_active_10_years.mean()}\")\n",
    "print(\"=====================================================\")\n",
    "print(f\"Number of purchases made by the customers after 100 years: {simulation_results.n_purchases_100_years.mean()}\")\n",
    "print(f\"Number of active customers after 100 years: {simulation_results.n_active_100_years.mean()}\")\n",
    "print(\"=====================================================\")"
   ]
  },
  {
   "cell_type": "markdown",
   "metadata": {},
   "source": [
    "## Using generate data from lifetimes package\n",
    "> Easier way to simulate data based on modified BG model. The difference between the previous function and below is here, for different time period simulation you sample diffrent customers. Both methods should converge, if run for more number of simulation"
   ]
  },
  {
   "cell_type": "code",
   "execution_count": 35,
   "metadata": {},
   "outputs": [
    {
     "name": "stdout",
     "output_type": "stream",
     "text": [
      "=====================================================\n",
      "Total number of purchases made by the customers after 10 days: 11.0\n",
      "Total number of active customers after 10 days: 71.0\n",
      "=====================================================\n",
      "Total number of purchases made by the customers after 1 years: 172.0\n",
      "Total number of active customers after 1 years: 48.0\n",
      "=====================================================\n",
      "Total number of purchases made by the customers after 10 years: 617.0\n",
      "Total number of active customers after 10 years: 33.0\n",
      "=====================================================\n",
      "Total number of purchases made by the customers after 100 years: 1735.0\n",
      "Total number of active customers after 100 years: 8.0\n",
      "=====================================================\n"
     ]
    }
   ],
   "source": [
    "b1 = modified_beta_geometric_nbd_model(T=10, r=r, alpha=alpha, a=a, b=b, size=100)\n",
    "b2 = modified_beta_geometric_nbd_model(T=1*number_of_days_in_a_year, r=r, alpha=alpha, a=a, b=b, size=100)\n",
    "b3 = modified_beta_geometric_nbd_model(T=10*number_of_days_in_a_year, r=r, alpha=alpha, a=a, b=b, size=100)\n",
    "b4 = modified_beta_geometric_nbd_model(T=100*number_of_days_in_a_year, r=r, alpha=alpha, a=a, b=b, size=100)\n",
    "\n",
    "print(\"=====================================================\")\n",
    "print(f\"Total number of purchases made by the customers after 10 days: {b1.frequency.sum()}\")\n",
    "print(f\"Total number of active customers after 10 days: {b1.alive.sum()}\")\n",
    "print(\"=====================================================\")\n",
    "print(f\"Total number of purchases made by the customers after 1 years: {b2.frequency.sum()}\")\n",
    "print(f\"Total number of active customers after 1 years: {b2.alive.sum()}\")\n",
    "print(\"=====================================================\")\n",
    "print(f\"Total number of purchases made by the customers after 10 years: {b3.frequency.sum()}\")\n",
    "print(f\"Total number of active customers after 10 years: {b3.alive.sum()}\")\n",
    "print(\"=====================================================\")\n",
    "print(f\"Total number of purchases made by the customers after 100 years: {b4.frequency.sum()}\")\n",
    "print(f\"Total number of active customers after 100 years: {b4.alive.sum()}\")\n",
    "print(\"=====================================================\")"
   ]
  },
  {
   "cell_type": "markdown",
   "metadata": {},
   "source": [
    "# Evaluating Model fit"
   ]
  },
  {
   "cell_type": "code",
   "execution_count": 36,
   "metadata": {},
   "outputs": [
    {
     "data": {
      "image/png": "[encoded data removed]",
      "text/plain": [
       "<Figure size 432x288 with 1 Axes>"
      ]
     },
     "metadata": {
      "needs_background": "light"
     },
     "output_type": "display_data"
    }
   ],
   "source": [
    "plot_period_transactions(bgf,max_frequency=10);"
   ]
  },
  {
   "cell_type": "code",
   "execution_count": 37,
   "metadata": {},
   "outputs": [
    {
     "data": {
      "text/plain": [
       "<matplotlib.axes._subplots.AxesSubplot at 0x12ad40ba8>"
      ]
     },
     "execution_count": 37,
     "metadata": {},
     "output_type": "execute_result"
    },
    {
     "data": {
      "image/png": "[encoded data removed]",
      "text/plain": [
       "<Figure size 432x288 with 1 Axes>"
      ]
     },
     "metadata": {
      "needs_background": "light"
     },
     "output_type": "display_data"
    }
   ],
   "source": [
    "holdout_data = calibration_and_holdout_data(df, \n",
    "                                                   'CustomerID', \n",
    "                                                   'Timestamp', \n",
    "                                                   calibration_period_end=pd.to_datetime('2017-09-07')) \n",
    "bgf.fit(holdout_data['frequency_cal'], holdout_data['recency_cal'], holdout_data['T_cal'])\n",
    "plot_calibration_purchases_vs_holdout_purchases(bgf, holdout_data, n=10)"
   ]
  },
  {
   "cell_type": "markdown",
   "metadata": {},
   "source": [
    ">The 1st plot shows the expected number of customers that are going to repeat purchase 0, 1, 2, 3 ... 10 times in the future. For each number of repeat purchases, we plot both what the model predicted and what the actual numbers were. As we can see, little to no errors in the fit for up to 10 repeat purchases."
   ]
  },
  {
   "cell_type": "markdown",
   "metadata": {},
   "source": [
    ">The model fits well till 6 repurchases and underestimates the expected number in case of higher repurchases. This maybe due to less number of customers(~3.5%) with more than 6 repurchases."
   ]
  },
  {
   "cell_type": "code",
   "execution_count": 38,
   "metadata": {},
   "outputs": [
    {
     "data": {
      "image/png": "[encoded data removed]",
      "text/plain": [
       "<Figure size 720x576 with 1 Axes>"
      ]
     },
     "metadata": {
      "needs_background": "light"
     },
     "output_type": "display_data"
    }
   ],
   "source": [
    "duration_holdout=90\n",
    "holdout_data[\"model_predictions\"] = bgf.conditional_expected_number_of_purchases_up_to_time(duration_holdout, \n",
    "                                                                                              holdout_data[\"frequency_cal\"], \n",
    "                                                                                              holdout_data[\"recency_cal\"], \n",
    "                                                                                              holdout_data[\"T_cal\"])\n",
    "temp = holdout_data.reset_index().copy()\n",
    "temp['abs_dev'] = abs(temp['frequency_holdout']-temp['model_predictions'])\n",
    "temp['se'] = (temp['frequency_holdout']-temp['model_predictions'])**2\n",
    "temp['age_bin'] = pd.qcut(temp[\"T_cal\"], 10, retbins=False, labels=np.arange(1, 11, 1))\n",
    "\n",
    "plt.figure(figsize=(10,8));\n",
    "sns.barplot(x='age_bin',y='abs_dev',data=temp);\n",
    "plt.title('Mean absolute deviation(model predictions) by age of the customer');"
   ]
  },
  {
   "cell_type": "markdown",
   "metadata": {},
   "source": [
    "> Looking at the plot, the MAD for the model increases for new customers. This could be due to lack of data for customers who just started purchasing or maybe there is diffrence in the characterstics between the new and old customers."
   ]
  },
  {
   "cell_type": "markdown",
   "metadata": {},
   "source": [
    "# Things to consider"
   ]
  },
  {
   "cell_type": "markdown",
   "metadata": {},
   "source": [
    ">As we saw from the calibration/holdout analysis, the model performance decrease for customers who made more than 6,7.. repurchases and for customers who are relatively new. These could be due to lack of data, which case we need to wait till some time to build history and use the model for prediction. Other ideas, I can think of to improve our prediction for CLV:\n",
    ">* We might want to segment customers based on when they were acquired and model them separately. This would address the problem if there is a shift in type of customers buying from our website. \n",
    ">* More comprehensive approach would be to enrich our features set. BG/NBD model uses just recency,frequency metrics to predict the customer behaviour, but there could be other covariates like customer reviews/complaints, demographics, online behaviours, product features, marketing activities(promotion etc) that can explain customer characterstics better. These features can be either used in combination with RFM metrics to model CLV (supervised/ML model). Or We could use these features to segment customers and then apply probabilistic models."
   ]
  },
  {
   "cell_type": "markdown",
   "metadata": {},
   "source": [
    "# Evaluation Metrics"
   ]
  },
  {
   "cell_type": "markdown",
   "metadata": {},
   "source": [
    "> Using both the models, We can bin the customers into 4 buckets as mentioned in the question. Then using a holdout/validation data we can compare the actual number of churned customers vs model predicted churn rates in each bucket. Then we can compare the misclassification rates for both the models  in each bucket. We can add up the misclassfication counts to get to one number that compares the two models."
   ]
  },
  {
   "cell_type": "markdown",
   "metadata": {},
   "source": [
    "# Mock up comparison"
   ]
  },
  {
   "cell_type": "code",
   "execution_count": 39,
   "metadata": {},
   "outputs": [],
   "source": [
    "results_df = pd.DataFrame({'Bucket':['highly unlikely to buy','unlikely to buy','likely to buy','highly likely to buy'],\n",
    "                          'churn_prob':['80-100%','40-80%','20-40%','0-20%'],\n",
    "                           'expected_churn_rate':[90,60,30,10],\n",
    "                          'Number of customers in bin (model1)':[70,25,3,2],\n",
    "                           'Churned customers in bin (model1)':[65,19,1,0],\n",
    "                           'Churn rate (model1)':[93,76,33,0],\n",
    "                          'Number of customers (model2)':[30,30,20,20],\n",
    "                          'Churned customers in bin (model2)':[30,30,0,15],\n",
    "                           'Churn rate (model2)':[100,100,0,75],\n",
    "                          'misclassification_rate (model1)':[3,16,3,10],\n",
    "                          'misclassification_rate (model2)':[10,40,30,65]})\n",
    "display_df = results_df.T"
   ]
  },
  {
   "cell_type": "code",
   "execution_count": 40,
   "metadata": {},
   "outputs": [
    {
     "data": {
      "text/html": [
       "<style  type=\"text/css\" >\n",
       "    #T_729e9e22_0beb_11ea_845d_6a0003674c80row2_col0 {\n",
       "            background-color:  yellow;\n",
       "            : ;\n",
       "            : ;\n",
       "        }    #T_729e9e22_0beb_11ea_845d_6a0003674c80row2_col1 {\n",
       "            background-color:  yellow;\n",
       "            : ;\n",
       "            : ;\n",
       "        }    #T_729e9e22_0beb_11ea_845d_6a0003674c80row2_col2 {\n",
       "            background-color:  yellow;\n",
       "            : ;\n",
       "            : ;\n",
       "        }    #T_729e9e22_0beb_11ea_845d_6a0003674c80row2_col3 {\n",
       "            background-color:  yellow;\n",
       "            : ;\n",
       "            : ;\n",
       "        }    #T_729e9e22_0beb_11ea_845d_6a0003674c80row5_col0 {\n",
       "            background-color:  yellow;\n",
       "            : ;\n",
       "            : ;\n",
       "        }    #T_729e9e22_0beb_11ea_845d_6a0003674c80row5_col1 {\n",
       "            background-color:  yellow;\n",
       "            : ;\n",
       "            : ;\n",
       "        }    #T_729e9e22_0beb_11ea_845d_6a0003674c80row5_col2 {\n",
       "            background-color:  yellow;\n",
       "            : ;\n",
       "            : ;\n",
       "        }    #T_729e9e22_0beb_11ea_845d_6a0003674c80row5_col3 {\n",
       "            background-color:  yellow;\n",
       "            : ;\n",
       "            : ;\n",
       "        }    #T_729e9e22_0beb_11ea_845d_6a0003674c80row8_col0 {\n",
       "            background-color:  yellow;\n",
       "            : ;\n",
       "            : ;\n",
       "        }    #T_729e9e22_0beb_11ea_845d_6a0003674c80row8_col1 {\n",
       "            background-color:  yellow;\n",
       "            : ;\n",
       "            : ;\n",
       "        }    #T_729e9e22_0beb_11ea_845d_6a0003674c80row8_col2 {\n",
       "            background-color:  yellow;\n",
       "            : ;\n",
       "            : ;\n",
       "        }    #T_729e9e22_0beb_11ea_845d_6a0003674c80row8_col3 {\n",
       "            background-color:  yellow;\n",
       "            : ;\n",
       "            : ;\n",
       "        }    #T_729e9e22_0beb_11ea_845d_6a0003674c80row9_col0 {\n",
       "            background-color:  yellow;\n",
       "            color:  green;\n",
       "            : ;\n",
       "        }    #T_729e9e22_0beb_11ea_845d_6a0003674c80row9_col1 {\n",
       "            background-color:  yellow;\n",
       "            color:  green;\n",
       "            : ;\n",
       "        }    #T_729e9e22_0beb_11ea_845d_6a0003674c80row9_col2 {\n",
       "            background-color:  yellow;\n",
       "            color:  green;\n",
       "            : ;\n",
       "        }    #T_729e9e22_0beb_11ea_845d_6a0003674c80row9_col3 {\n",
       "            background-color:  yellow;\n",
       "            color:  green;\n",
       "            : ;\n",
       "        }    #T_729e9e22_0beb_11ea_845d_6a0003674c80row10_col0 {\n",
       "            background-color:  yellow;\n",
       "            : ;\n",
       "            color:  red;\n",
       "        }    #T_729e9e22_0beb_11ea_845d_6a0003674c80row10_col1 {\n",
       "            background-color:  yellow;\n",
       "            : ;\n",
       "            color:  red;\n",
       "        }    #T_729e9e22_0beb_11ea_845d_6a0003674c80row10_col2 {\n",
       "            background-color:  yellow;\n",
       "            : ;\n",
       "            color:  red;\n",
       "        }    #T_729e9e22_0beb_11ea_845d_6a0003674c80row10_col3 {\n",
       "            background-color:  yellow;\n",
       "            : ;\n",
       "            color:  red;\n",
       "        }</style><table id=\"T_729e9e22_0beb_11ea_845d_6a0003674c80\" ><thead>    <tr>        <th class=\"blank level0\" ></th>        <th class=\"col_heading level0 col0\" >0</th>        <th class=\"col_heading level0 col1\" >1</th>        <th class=\"col_heading level0 col2\" >2</th>        <th class=\"col_heading level0 col3\" >3</th>    </tr></thead><tbody>\n",
       "                <tr>\n",
       "                        <th id=\"T_729e9e22_0beb_11ea_845d_6a0003674c80level0_row0\" class=\"row_heading level0 row0\" >Bucket</th>\n",
       "                        <td id=\"T_729e9e22_0beb_11ea_845d_6a0003674c80row0_col0\" class=\"data row0 col0\" >highly unlikely to buy</td>\n",
       "                        <td id=\"T_729e9e22_0beb_11ea_845d_6a0003674c80row0_col1\" class=\"data row0 col1\" >unlikely to buy</td>\n",
       "                        <td id=\"T_729e9e22_0beb_11ea_845d_6a0003674c80row0_col2\" class=\"data row0 col2\" >likely to buy</td>\n",
       "                        <td id=\"T_729e9e22_0beb_11ea_845d_6a0003674c80row0_col3\" class=\"data row0 col3\" >highly likely to buy</td>\n",
       "            </tr>\n",
       "            <tr>\n",
       "                        <th id=\"T_729e9e22_0beb_11ea_845d_6a0003674c80level0_row1\" class=\"row_heading level0 row1\" >churn_prob</th>\n",
       "                        <td id=\"T_729e9e22_0beb_11ea_845d_6a0003674c80row1_col0\" class=\"data row1 col0\" >80-100%</td>\n",
       "                        <td id=\"T_729e9e22_0beb_11ea_845d_6a0003674c80row1_col1\" class=\"data row1 col1\" >40-80%</td>\n",
       "                        <td id=\"T_729e9e22_0beb_11ea_845d_6a0003674c80row1_col2\" class=\"data row1 col2\" >20-40%</td>\n",
       "                        <td id=\"T_729e9e22_0beb_11ea_845d_6a0003674c80row1_col3\" class=\"data row1 col3\" >0-20%</td>\n",
       "            </tr>\n",
       "            <tr>\n",
       "                        <th id=\"T_729e9e22_0beb_11ea_845d_6a0003674c80level0_row2\" class=\"row_heading level0 row2\" >expected_churn_rate</th>\n",
       "                        <td id=\"T_729e9e22_0beb_11ea_845d_6a0003674c80row2_col0\" class=\"data row2 col0\" >90</td>\n",
       "                        <td id=\"T_729e9e22_0beb_11ea_845d_6a0003674c80row2_col1\" class=\"data row2 col1\" >60</td>\n",
       "                        <td id=\"T_729e9e22_0beb_11ea_845d_6a0003674c80row2_col2\" class=\"data row2 col2\" >30</td>\n",
       "                        <td id=\"T_729e9e22_0beb_11ea_845d_6a0003674c80row2_col3\" class=\"data row2 col3\" >10</td>\n",
       "            </tr>\n",
       "            <tr>\n",
       "                        <th id=\"T_729e9e22_0beb_11ea_845d_6a0003674c80level0_row3\" class=\"row_heading level0 row3\" >Number of customers in bin (model1)</th>\n",
       "                        <td id=\"T_729e9e22_0beb_11ea_845d_6a0003674c80row3_col0\" class=\"data row3 col0\" >70</td>\n",
       "                        <td id=\"T_729e9e22_0beb_11ea_845d_6a0003674c80row3_col1\" class=\"data row3 col1\" >25</td>\n",
       "                        <td id=\"T_729e9e22_0beb_11ea_845d_6a0003674c80row3_col2\" class=\"data row3 col2\" >3</td>\n",
       "                        <td id=\"T_729e9e22_0beb_11ea_845d_6a0003674c80row3_col3\" class=\"data row3 col3\" >2</td>\n",
       "            </tr>\n",
       "            <tr>\n",
       "                        <th id=\"T_729e9e22_0beb_11ea_845d_6a0003674c80level0_row4\" class=\"row_heading level0 row4\" >Churned customers in bin (model1)</th>\n",
       "                        <td id=\"T_729e9e22_0beb_11ea_845d_6a0003674c80row4_col0\" class=\"data row4 col0\" >65</td>\n",
       "                        <td id=\"T_729e9e22_0beb_11ea_845d_6a0003674c80row4_col1\" class=\"data row4 col1\" >19</td>\n",
       "                        <td id=\"T_729e9e22_0beb_11ea_845d_6a0003674c80row4_col2\" class=\"data row4 col2\" >1</td>\n",
       "                        <td id=\"T_729e9e22_0beb_11ea_845d_6a0003674c80row4_col3\" class=\"data row4 col3\" >0</td>\n",
       "            </tr>\n",
       "            <tr>\n",
       "                        <th id=\"T_729e9e22_0beb_11ea_845d_6a0003674c80level0_row5\" class=\"row_heading level0 row5\" >Churn rate (model1)</th>\n",
       "                        <td id=\"T_729e9e22_0beb_11ea_845d_6a0003674c80row5_col0\" class=\"data row5 col0\" >93</td>\n",
       "                        <td id=\"T_729e9e22_0beb_11ea_845d_6a0003674c80row5_col1\" class=\"data row5 col1\" >76</td>\n",
       "                        <td id=\"T_729e9e22_0beb_11ea_845d_6a0003674c80row5_col2\" class=\"data row5 col2\" >33</td>\n",
       "                        <td id=\"T_729e9e22_0beb_11ea_845d_6a0003674c80row5_col3\" class=\"data row5 col3\" >0</td>\n",
       "            </tr>\n",
       "            <tr>\n",
       "                        <th id=\"T_729e9e22_0beb_11ea_845d_6a0003674c80level0_row6\" class=\"row_heading level0 row6\" >Number of customers (model2)</th>\n",
       "                        <td id=\"T_729e9e22_0beb_11ea_845d_6a0003674c80row6_col0\" class=\"data row6 col0\" >30</td>\n",
       "                        <td id=\"T_729e9e22_0beb_11ea_845d_6a0003674c80row6_col1\" class=\"data row6 col1\" >30</td>\n",
       "                        <td id=\"T_729e9e22_0beb_11ea_845d_6a0003674c80row6_col2\" class=\"data row6 col2\" >20</td>\n",
       "                        <td id=\"T_729e9e22_0beb_11ea_845d_6a0003674c80row6_col3\" class=\"data row6 col3\" >20</td>\n",
       "            </tr>\n",
       "            <tr>\n",
       "                        <th id=\"T_729e9e22_0beb_11ea_845d_6a0003674c80level0_row7\" class=\"row_heading level0 row7\" >Churned customers in bin (model2)</th>\n",
       "                        <td id=\"T_729e9e22_0beb_11ea_845d_6a0003674c80row7_col0\" class=\"data row7 col0\" >30</td>\n",
       "                        <td id=\"T_729e9e22_0beb_11ea_845d_6a0003674c80row7_col1\" class=\"data row7 col1\" >30</td>\n",
       "                        <td id=\"T_729e9e22_0beb_11ea_845d_6a0003674c80row7_col2\" class=\"data row7 col2\" >0</td>\n",
       "                        <td id=\"T_729e9e22_0beb_11ea_845d_6a0003674c80row7_col3\" class=\"data row7 col3\" >15</td>\n",
       "            </tr>\n",
       "            <tr>\n",
       "                        <th id=\"T_729e9e22_0beb_11ea_845d_6a0003674c80level0_row8\" class=\"row_heading level0 row8\" >Churn rate (model2)</th>\n",
       "                        <td id=\"T_729e9e22_0beb_11ea_845d_6a0003674c80row8_col0\" class=\"data row8 col0\" >100</td>\n",
       "                        <td id=\"T_729e9e22_0beb_11ea_845d_6a0003674c80row8_col1\" class=\"data row8 col1\" >100</td>\n",
       "                        <td id=\"T_729e9e22_0beb_11ea_845d_6a0003674c80row8_col2\" class=\"data row8 col2\" >0</td>\n",
       "                        <td id=\"T_729e9e22_0beb_11ea_845d_6a0003674c80row8_col3\" class=\"data row8 col3\" >75</td>\n",
       "            </tr>\n",
       "            <tr>\n",
       "                        <th id=\"T_729e9e22_0beb_11ea_845d_6a0003674c80level0_row9\" class=\"row_heading level0 row9\" >misclassification_rate (model1)</th>\n",
       "                        <td id=\"T_729e9e22_0beb_11ea_845d_6a0003674c80row9_col0\" class=\"data row9 col0\" >3</td>\n",
       "                        <td id=\"T_729e9e22_0beb_11ea_845d_6a0003674c80row9_col1\" class=\"data row9 col1\" >16</td>\n",
       "                        <td id=\"T_729e9e22_0beb_11ea_845d_6a0003674c80row9_col2\" class=\"data row9 col2\" >3</td>\n",
       "                        <td id=\"T_729e9e22_0beb_11ea_845d_6a0003674c80row9_col3\" class=\"data row9 col3\" >10</td>\n",
       "            </tr>\n",
       "            <tr>\n",
       "                        <th id=\"T_729e9e22_0beb_11ea_845d_6a0003674c80level0_row10\" class=\"row_heading level0 row10\" >misclassification_rate (model2)</th>\n",
       "                        <td id=\"T_729e9e22_0beb_11ea_845d_6a0003674c80row10_col0\" class=\"data row10 col0\" >10</td>\n",
       "                        <td id=\"T_729e9e22_0beb_11ea_845d_6a0003674c80row10_col1\" class=\"data row10 col1\" >40</td>\n",
       "                        <td id=\"T_729e9e22_0beb_11ea_845d_6a0003674c80row10_col2\" class=\"data row10 col2\" >30</td>\n",
       "                        <td id=\"T_729e9e22_0beb_11ea_845d_6a0003674c80row10_col3\" class=\"data row10 col3\" >65</td>\n",
       "            </tr>\n",
       "    </tbody></table>"
      ],
      "text/plain": [
       "<pandas.io.formats.style.Styler at 0x127eaf128>"
      ]
     },
     "execution_count": 40,
     "metadata": {},
     "output_type": "execute_result"
    }
   ],
   "source": [
    "def highlight_rows(s):\n",
    "    \n",
    "    is_row=[]\n",
    "    for rowname in s.index.tolist():\n",
    "        if rowname in ['expected_churn_rate','Churn rate (model1)','Churn rate (model2)',\n",
    "                        'misclassification_rate (model1)','misclassification_rate (model2)']:\n",
    "            is_row.append(1)\n",
    "        else:\n",
    "            is_row.append(0)\n",
    "    return ['background-color: yellow' if v else '' for v in is_row]\n",
    "\n",
    "def highlight_1(s):\n",
    "    is_green = s.index.get_level_values(0) == 'misclassification_rate (model1)'\n",
    "    return ['color: green' if v else '' for v in is_green]\n",
    "\n",
    "def highlight_2(s):\n",
    "    is_red = s.index.get_level_values(0) == 'misclassification_rate (model2)'\n",
    "    return ['color: red' if v else '' for v in is_red]\n",
    "\n",
    "display_df = display_df.style.apply(highlight_rows).apply(highlight_1).apply(highlight_2)\n",
    "display_df"
   ]
  },
  {
   "cell_type": "markdown",
   "metadata": {},
   "source": [
    ">Misclassification rate for each bin would be the difference between predicted churn rate from model and actual chrun rate realised. An example comparison is shown below. Here, **Model1** is shown to perform *better* than **model2.** "
   ]
  },
  {
   "cell_type": "markdown",
   "metadata": {},
   "source": [
    ">There are other classic metrics for comparing the probabilities/classification results from two models, mainly **F1 score and Matthew correlation coefficient**. Both these metrics take precision and recall into consideration. The other advantage is that you get one number to compare models.\n",
    "> In case of **F1 scores**, since the model outputs probabilities, we can calculate Area under Precision-Recall curve which is nothing but plotting precision & recall for all values of threshold and getting the area. The model with higher area is better."
   ]
  },
  {
   "cell_type": "markdown",
   "metadata": {},
   "source": [
    "# Use CLV models for Churn"
   ]
  },
  {
   "cell_type": "markdown",
   "metadata": {},
   "source": [
    ">Assuming the customers who didn't make a repurchase after calibration period as churned customers, we can measure how well our model is performing using the misclassification, AUC and PR metrics as follows"
   ]
  },
  {
   "cell_type": "code",
   "execution_count": 41,
   "metadata": {},
   "outputs": [
    {
     "data": {
      "text/html": [
       "<div>\n",
       "<style scoped>\n",
       "    .dataframe tbody tr th:only-of-type {\n",
       "        vertical-align: middle;\n",
       "    }\n",
       "\n",
       "    .dataframe tbody tr th {\n",
       "        vertical-align: top;\n",
       "    }\n",
       "\n",
       "    .dataframe thead th {\n",
       "        text-align: right;\n",
       "    }\n",
       "</style>\n",
       "<table border=\"1\" class=\"dataframe\">\n",
       "  <thead>\n",
       "    <tr style=\"text-align: right;\">\n",
       "      <th></th>\n",
       "      <th>churn_bucket</th>\n",
       "      <th>number_of_customers</th>\n",
       "      <th>churned_customers</th>\n",
       "      <th>actual_pct_churned</th>\n",
       "      <th>model_pct_churned</th>\n",
       "    </tr>\n",
       "  </thead>\n",
       "  <tbody>\n",
       "    <tr>\n",
       "      <th>0</th>\n",
       "      <td>[0 - 10)</td>\n",
       "      <td>64</td>\n",
       "      <td>5</td>\n",
       "      <td>8.0</td>\n",
       "      <td>5</td>\n",
       "    </tr>\n",
       "    <tr>\n",
       "      <th>1</th>\n",
       "      <td>[10 - 20)</td>\n",
       "      <td>704</td>\n",
       "      <td>247</td>\n",
       "      <td>35.0</td>\n",
       "      <td>15</td>\n",
       "    </tr>\n",
       "    <tr>\n",
       "      <th>2</th>\n",
       "      <td>[20 - 30)</td>\n",
       "      <td>1679</td>\n",
       "      <td>895</td>\n",
       "      <td>53.0</td>\n",
       "      <td>25</td>\n",
       "    </tr>\n",
       "    <tr>\n",
       "      <th>3</th>\n",
       "      <td>[30 - 40)</td>\n",
       "      <td>3243</td>\n",
       "      <td>2306</td>\n",
       "      <td>71.0</td>\n",
       "      <td>35</td>\n",
       "    </tr>\n",
       "    <tr>\n",
       "      <th>4</th>\n",
       "      <td>[40 - 50)</td>\n",
       "      <td>4639</td>\n",
       "      <td>3747</td>\n",
       "      <td>81.0</td>\n",
       "      <td>45</td>\n",
       "    </tr>\n",
       "    <tr>\n",
       "      <th>5</th>\n",
       "      <td>[50 - 60)</td>\n",
       "      <td>5244</td>\n",
       "      <td>4424</td>\n",
       "      <td>84.0</td>\n",
       "      <td>55</td>\n",
       "    </tr>\n",
       "    <tr>\n",
       "      <th>6</th>\n",
       "      <td>[60 - 70)</td>\n",
       "      <td>2600</td>\n",
       "      <td>2189</td>\n",
       "      <td>84.0</td>\n",
       "      <td>65</td>\n",
       "    </tr>\n",
       "    <tr>\n",
       "      <th>7</th>\n",
       "      <td>[70 - 80)</td>\n",
       "      <td>490</td>\n",
       "      <td>381</td>\n",
       "      <td>78.0</td>\n",
       "      <td>75</td>\n",
       "    </tr>\n",
       "    <tr>\n",
       "      <th>8</th>\n",
       "      <td>[80 - 90)</td>\n",
       "      <td>215</td>\n",
       "      <td>156</td>\n",
       "      <td>73.0</td>\n",
       "      <td>85</td>\n",
       "    </tr>\n",
       "    <tr>\n",
       "      <th>9</th>\n",
       "      <td>[90 - 100)</td>\n",
       "      <td>80</td>\n",
       "      <td>63</td>\n",
       "      <td>79.0</td>\n",
       "      <td>95</td>\n",
       "    </tr>\n",
       "  </tbody>\n",
       "</table>\n",
       "</div>"
      ],
      "text/plain": [
       "  churn_bucket  number_of_customers  churned_customers  actual_pct_churned  \\\n",
       "0     [0 - 10)                   64                  5                 8.0   \n",
       "1    [10 - 20)                  704                247                35.0   \n",
       "2    [20 - 30)                 1679                895                53.0   \n",
       "3    [30 - 40)                 3243               2306                71.0   \n",
       "4    [40 - 50)                 4639               3747                81.0   \n",
       "5    [50 - 60)                 5244               4424                84.0   \n",
       "6    [60 - 70)                 2600               2189                84.0   \n",
       "7    [70 - 80)                  490                381                78.0   \n",
       "8    [80 - 90)                  215                156                73.0   \n",
       "9   [90 - 100)                   80                 63                79.0   \n",
       "\n",
       "   model_pct_churned  \n",
       "0                  5  \n",
       "1                 15  \n",
       "2                 25  \n",
       "3                 35  \n",
       "4                 45  \n",
       "5                 55  \n",
       "6                 65  \n",
       "7                 75  \n",
       "8                 85  \n",
       "9                 95  "
      ]
     },
     "execution_count": 41,
     "metadata": {},
     "output_type": "execute_result"
    }
   ],
   "source": [
    "temp['probability_alive'] = bgf.conditional_probability_alive(holdout_data['frequency_cal'], holdout_data['recency_cal'], holdout_data['T_cal'])\n",
    "temp['probability_churn'] = 1 - temp['probability_alive']\n",
    "labels = [\"[{0} - {1})\".format(i, i + 10) for i in range(0, 100, 10)]\n",
    "temp['churn_bucket'] = pd.cut(x=temp['probability_churn'], bins=10, labels=labels)\n",
    "temp['actually_churned'] = np.where(temp['frequency_holdout']==0,1,0)\n",
    "\n",
    "churn_df = temp.groupby('churn_bucket').agg({'probability_churn':'count','actually_churned':'sum'}).reset_index()\n",
    "churn_df.columns = ['churn_bucket','number_of_customers','churned_customers']\n",
    "churn_df['actual_pct_churned'] = round(100*churn_df['churned_customers']/churn_df['number_of_customers'])\n",
    "churn_df['model_pct_churned'] = np.arange(5,100,10)\n",
    "churn_df"
   ]
  },
  {
   "cell_type": "markdown",
   "metadata": {},
   "source": [
    ">It looks like model is not able to differentiate high risk and low risk customers (Two-thirds of our customers have churn probability assigned in the 30-70 % range)."
   ]
  },
  {
   "cell_type": "code",
   "execution_count": 42,
   "metadata": {},
   "outputs": [
    {
     "data": {
      "text/html": [
       "<div>\n",
       "<style scoped>\n",
       "    .dataframe tbody tr th:only-of-type {\n",
       "        vertical-align: middle;\n",
       "    }\n",
       "\n",
       "    .dataframe tbody tr th {\n",
       "        vertical-align: top;\n",
       "    }\n",
       "\n",
       "    .dataframe thead th {\n",
       "        text-align: right;\n",
       "    }\n",
       "</style>\n",
       "<table border=\"1\" class=\"dataframe\">\n",
       "  <thead>\n",
       "    <tr style=\"text-align: right;\">\n",
       "      <th>predicted_holdout</th>\n",
       "      <th>0.0</th>\n",
       "      <th>1.0</th>\n",
       "    </tr>\n",
       "    <tr>\n",
       "      <th>actually_churned</th>\n",
       "      <th></th>\n",
       "      <th></th>\n",
       "    </tr>\n",
       "  </thead>\n",
       "  <tbody>\n",
       "    <tr>\n",
       "      <th>0</th>\n",
       "      <td>3066</td>\n",
       "      <td>1479</td>\n",
       "    </tr>\n",
       "    <tr>\n",
       "      <th>1</th>\n",
       "      <td>6890</td>\n",
       "      <td>7523</td>\n",
       "    </tr>\n",
       "  </tbody>\n",
       "</table>\n",
       "</div>"
      ],
      "text/plain": [
       "predicted_holdout   0.0   1.0\n",
       "actually_churned             \n",
       "0                  3066  1479\n",
       "1                  6890  7523"
      ]
     },
     "execution_count": 42,
     "metadata": {},
     "output_type": "execute_result"
    }
   ],
   "source": [
    "temp['predicted_holdout'] = np.round(temp['probability_churn'])\n",
    "pd.crosstab(temp['actually_churned'],temp['predicted_holdout'])"
   ]
  },
  {
   "cell_type": "code",
   "execution_count": 43,
   "metadata": {},
   "outputs": [
    {
     "data": {
      "image/png": "[encoded data removed]",
      "text/plain": [
       "<Figure size 432x288 with 1 Axes>"
      ]
     },
     "metadata": {
      "needs_background": "light"
     },
     "output_type": "display_data"
    }
   ],
   "source": [
    "# auc curve\n",
    "\n",
    "# calculate the fpr and tpr for all thresholds of the classification\n",
    "y_true = temp.actually_churned\n",
    "y_pred = temp.probability_churn\n",
    "fpr, tpr, threshold = roc_curve(y_true, y_pred)\n",
    "roc_auc = auc(fpr, tpr)\n",
    "\n",
    "plt.title('Receiver Operating Characteristic')\n",
    "plt.plot(fpr, tpr, 'b', label = 'AUC = %0.2f' % roc_auc)\n",
    "plt.legend(loc = 'lower right')\n",
    "plt.plot([0, 1], [0, 1],'r--')\n",
    "plt.xlim([0, 1])\n",
    "plt.ylim([0, 1])\n",
    "plt.ylabel('True Positive Rate')\n",
    "plt.xlabel('False Positive Rate')\n",
    "plt.show()"
   ]
  },
  {
   "cell_type": "markdown",
   "metadata": {},
   "source": [
    "> Our conclusion from binning of probabilities is reinforced by AUC score of 0.65. AUC score implies the probability of randomly picked positive class (here,churned customer) has a high score than picked negative class (customer not churned). In other words, how well our model separates those who churned or not churned."
   ]
  },
  {
   "cell_type": "code",
   "execution_count": 44,
   "metadata": {},
   "outputs": [
    {
     "name": "stdout",
     "output_type": "stream",
     "text": [
      "              precision    recall  f1-score   support\n",
      "\n",
      "           0       0.31      0.67      0.42      4545\n",
      "           1       0.84      0.52      0.64     14413\n",
      "\n",
      "   micro avg       0.56      0.56      0.56     18958\n",
      "   macro avg       0.57      0.60      0.53     18958\n",
      "weighted avg       0.71      0.56      0.59     18958\n",
      "\n"
     ]
    }
   ],
   "source": [
    "print(classification_report(y_true,np.round(y_pred)))"
   ]
  },
  {
   "cell_type": "markdown",
   "metadata": {},
   "source": [
    "> F1 score at a threshold of 0.5, is around 0.56. The precision for not churned is only 0.31. This might be due to the way we defined the label who churned. We can find the best threshold that increases f1 score, it is somewhere around 0.25. So, if model predicts a probability greater than 0.2-0.25 then the customer is highly likely to be churned. "
   ]
  },
  {
   "cell_type": "code",
   "execution_count": 45,
   "metadata": {},
   "outputs": [
    {
     "name": "stdout",
     "output_type": "stream",
     "text": [
      "Best threshold with maximum f1 score: 0.2\n"
     ]
    }
   ],
   "source": [
    "f1={}\n",
    "thresholds = np.arange(0,1,0.025)\n",
    "for threshold in thresholds:\n",
    "    preds = [0 if p <threshold  else 1 for p in y_pred]\n",
    "    score = f1_score(y_true, preds,average='micro')\n",
    "    f1[threshold]=score\n",
    "#plt.plot(*zip(*sorted(f1.items())))\n",
    "#plt.show()\n",
    "print(f\"Best threshold with maximum f1 score: {max(f1, key=lambda k: f1[k])}\")"
   ]
  }
 ],
 "metadata": {
  "hide_input": false,
  "kernelspec": {
   "display_name": "Python 3",
   "language": "python",
   "name": "python3"
  },
  "language_info": {
   "codemirror_mode": {
    "name": "ipython",
    "version": 3
   },
   "file_extension": ".py",
   "mimetype": "text/x-python",
   "name": "python",
   "nbconvert_exporter": "python",
   "pygments_lexer": "ipython3",
   "version": "3.7.3"
  },
  "toc": {
   "base_numbering": 1,
   "nav_menu": {},
   "number_sections": true,
   "sideBar": true,
   "skip_h1_title": false,
   "title_cell": "Table of Contents",
   "title_sidebar": "Contents",
   "toc_cell": false,
   "toc_position": {},
   "toc_section_display": true,
   "toc_window_display": false
  }
 },
 "nbformat": 4,
 "nbformat_minor": 2
}
